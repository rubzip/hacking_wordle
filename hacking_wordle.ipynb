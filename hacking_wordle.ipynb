{
 "cells": [
  {
   "cell_type": "markdown",
   "id": "ca7f57b3",
   "metadata": {},
   "source": [
    "# \"Hacking\" Wordle\n",
    "\n",
    "The goal is to obtain the best solution in wordle, the metric that I'm going to use is the **Shannon entropy**.\n",
    "\n",
    "$$ S = \\sum_{i} -p_{i} log_{2}\\left ( p_{i} \\right ) $$\n",
    "## How Wordle works\n",
    "\n",
    "The goal of the game is to find the daily word. We have 6 tries and the word lenght is 5 characters.\n",
    "\n",
    "![alt text](./wordle_image.jpg)\n",
    "\n",
    "When we make a try every letter is going to be colored, if the color is <font color=\"green\"> green means that the letter is correct </font>, if it is <font color=\"orange\">orange means that the letter is in the word but not in that position</font> and finally if the letter is <font color=\"grey\">grey, the letter is not contained on the word</font>.\n",
    "\n",
    "\n"
   ]
  },
  {
   "cell_type": "code",
   "execution_count": 1,
   "id": "3cef37c5",
   "metadata": {},
   "outputs": [],
   "source": [
    "import pickle\n",
    "import numpy as np\n",
    "import pandas as pd"
   ]
  },
  {
   "cell_type": "code",
   "execution_count": 2,
   "id": "ce62ac7d",
   "metadata": {},
   "outputs": [],
   "source": [
    "#First of all, I'm loading a dataset with all spanish words with 5 characters\n",
    "with open('palabras_5_letras', 'rb') as fp:\n",
    "    ALL_WORDS = pickle.load(fp)"
   ]
  },
  {
   "cell_type": "code",
   "execution_count": 3,
   "id": "19252ad1",
   "metadata": {},
   "outputs": [],
   "source": [
    "#This function calculates the Shannon entropy of every character based on the all the possible words\n",
    "def shannon_entropy(possible_words):\n",
    "    #Initializing the dictionary:\n",
    "    frec = dict()\n",
    "    letters_sp = 'qwertyuiopasdfghjklñzxcvbnm '\n",
    "    for l in letters_sp:\n",
    "        frec[l] = 0\n",
    "    #We are going to calculate the frequency of every character:\n",
    "    total = 0\n",
    "    for word in possible_words:\n",
    "        letters = set(word)\n",
    "        for l in letters:\n",
    "            frec[l] += 1\n",
    "            total += 1\n",
    "    #So the entropy is:\n",
    "    entropy = dict()\n",
    "    for l in frec:\n",
    "        p = frec[l]/total\n",
    "        if(p!=0):\n",
    "            entropy[l] = -p*np.log2(p)\n",
    "        else:\n",
    "            entropy[l] = 0\n",
    "    \n",
    "    return(entropy)"
   ]
  },
  {
   "cell_type": "code",
   "execution_count": 4,
   "id": "d8177870",
   "metadata": {},
   "outputs": [],
   "source": [
    "def best_option(possible_words, ALL_WORDS=[]):\n",
    "    s = shannon_entropy(possible_words)\n",
    "    #We have 2 options, depending on ALL_WORLDS parameter:\n",
    "    #The first one takes less elements that the second so it's a lot of faster, but the second is the most optimal\n",
    "    # 1) ALL_WORLDS is void (this is the optimal)\n",
    "    if(ALL_WORDS==[]):\n",
    "        total_worlds = possible_words\n",
    "    # 2) ALL_WORLDS is not void\n",
    "    else:\n",
    "        total_worlds = ALL_WORDS\n",
    "    \n",
    "    #We are going to calculate the entropy of every word:\n",
    "    data = []\n",
    "    for word in total_worlds:\n",
    "        entropy = 0\n",
    "        letters = set(word)\n",
    "        for l in letters:\n",
    "            entropy += s[l]\n",
    "        \n",
    "        data.append((word, entropy))\n",
    "    \n",
    "    #We are going to take the word tha maximzes the entropy:\n",
    "    df = pd.DataFrame(data)\n",
    "    df = df.sort_values(by=1, ascending=False)\n",
    "    df = df.reset_index()\n",
    "    \n",
    "    return(df[0][0])"
   ]
  },
  {
   "cell_type": "code",
   "execution_count": 5,
   "id": "0c50b71c",
   "metadata": {},
   "outputs": [
    {
     "data": {
      "text/plain": [
       "'aireo'"
      ]
     },
     "execution_count": 5,
     "metadata": {},
     "output_type": "execute_result"
    }
   ],
   "source": [
    "#So we can obtain the best option between all possible spanish words:\n",
    "best_option(ALL_WORDS)"
   ]
  },
  {
   "cell_type": "code",
   "execution_count": 6,
   "id": "5650ac5d",
   "metadata": {},
   "outputs": [],
   "source": [
    "#Based on the tried word and the solution obtained, this function filters all the possible words\n",
    "def apply_filter(possible_words, tried_word, result):\n",
    "    #possible_words: remaining words\n",
    "    #result:\n",
    "        #0: letter not contained in the word\n",
    "        #1: contained, but not in this position\n",
    "        #2: contained and correct position\n",
    "    new_words = []\n",
    "    not_contained = []\n",
    "    contained = []\n",
    "    all_joined = list(zip(tried_word, result, range(len(tried_word))))\n",
    "    for i in all_joined:\n",
    "        if(i[1]=='0'):\n",
    "            not_contained.append(i[0])\n",
    "        else:\n",
    "            contained.append(i[0])\n",
    "    \n",
    "    for word in possible_words:\n",
    "        valid = True\n",
    "        for l in not_contained:\n",
    "            valid = valid and (l not in word)\n",
    "        for l in contained:\n",
    "            valid = valid and (l in word)\n",
    "        if(valid):\n",
    "            for l in all_joined:\n",
    "                i = l[2]\n",
    "                if(l[1]=='1'):\n",
    "                    valid = valid and (word[i]!=l[0])\n",
    "                elif(l[1]=='2'):\n",
    "                    valid = valid and (word[i]==l[0])\n",
    "        if(valid):\n",
    "            new_words.append(word)\n",
    "    \n",
    "    return(new_words)"
   ]
  },
  {
   "cell_type": "code",
   "execution_count": 7,
   "id": "a1ad0bd3",
   "metadata": {},
   "outputs": [
    {
     "data": {
      "text/plain": [
       "['boria', 'doria', 'noria']"
      ]
     },
     "execution_count": 7,
     "metadata": {},
     "output_type": "execute_result"
    }
   ],
   "source": [
    "#Here we have an example of how it works the function:\n",
    "apply_filter(ALL_WORDS, 'aireo', '11201')"
   ]
  },
  {
   "cell_type": "code",
   "execution_count": 13,
   "id": "61ff74ea",
   "metadata": {},
   "outputs": [
    {
     "name": "stdout",
     "output_type": "stream",
     "text": [
      "Next word is: aireo\n",
      "The result is: 10002\n",
      "Next word is: tlaco\n",
      "The result is: 01102\n",
      "Next word is: saldo\n",
      "The result is: 12202\n",
      "Next word is: balso\n",
      "The result is: 02222\n",
      "Next word is: falso\n",
      "The result is: 22222\n",
      "\n",
      "Solved in  5  tries\n"
     ]
    }
   ],
   "source": [
    "#First option:\n",
    "possible_words = ALL_WORDS\n",
    "\n",
    "result = ''\n",
    "i = 0\n",
    "while(i<6 and result!=5*'2' and possible_words!=[]):\n",
    "    word = best_option(possible_words)\n",
    "    print('Next word is: '+ word)\n",
    "    result = input('The result is: ')\n",
    "    possible_words = apply_filter(possible_words, word, result)\n",
    "    i += 1\n",
    "print('\\nSolved in ',i,' tries')"
   ]
  },
  {
   "cell_type": "code",
   "execution_count": 12,
   "id": "e3993090",
   "metadata": {},
   "outputs": [
    {
     "name": "stdout",
     "output_type": "stream",
     "text": [
      "Next word is: aireo\n",
      "The result is: 10002\n",
      "Next word is: talco\n",
      "The result is: 02202\n",
      "Next word is: glosa\n",
      "The result is: 01121\n",
      "Next word is: falso\n",
      "The result is: 22222\n",
      "\n",
      "Solved in  4  tries\n"
     ]
    }
   ],
   "source": [
    "#Second option:\n",
    "possible_words = ALL_WORDS\n",
    "\n",
    "result = ''\n",
    "i = 0\n",
    "while(i<6 and result!=5*'2' and possible_words!=[]):\n",
    "    if(len(possible_words)==1):\n",
    "        word = possible_words[0]\n",
    "    else:\n",
    "        word = best_option(possible_words, ALL_WORDS)\n",
    "    print('Next word is: '+ word)\n",
    "    result = input('The result is: ')\n",
    "    possible_words = apply_filter(possible_words, word, result)\n",
    "    i += 1\n",
    "print('\\nSolved in ',i,' tries')    \n"
   ]
  }
 ],
 "metadata": {
  "kernelspec": {
   "display_name": "Python 3 (ipykernel)",
   "language": "python",
   "name": "python3"
  },
  "language_info": {
   "codemirror_mode": {
    "name": "ipython",
    "version": 3
   },
   "file_extension": ".py",
   "mimetype": "text/x-python",
   "name": "python",
   "nbconvert_exporter": "python",
   "pygments_lexer": "ipython3",
   "version": "3.9.5"
  }
 },
 "nbformat": 4,
 "nbformat_minor": 5
}
